{
 "cells": [
  {
   "cell_type": "markdown",
   "metadata": {},
   "source": [
    "# Import libraries"
   ]
  },
  {
   "cell_type": "code",
   "execution_count": 1,
   "metadata": {},
   "outputs": [],
   "source": [
    "import ast\n",
    "import random\n",
    "import math\n"
   ]
  },
  {
   "cell_type": "markdown",
   "metadata": {},
   "source": [
    "# Set parameters"
   ]
  },
  {
   "cell_type": "code",
   "execution_count": 2,
   "metadata": {},
   "outputs": [],
   "source": [
    "# file to import -> \"KP_p-X_n-Y_ins-Z.dat.\"\n",
    "p = 3 # X -> number of objective functions\n",
    "n = 10 # Y -> number of object\n",
    "instance = 3 # Z -> instance number"
   ]
  },
  {
   "cell_type": "markdown",
   "metadata": {},
   "source": [
    "# Import data"
   ]
  },
  {
   "cell_type": "code",
   "execution_count": 3,
   "metadata": {},
   "outputs": [
    {
     "name": "stdout",
     "output_type": "stream",
     "text": [
      "p : 3\n",
      "n : 10\n",
      "capacity : 2446\n",
      "profits : [(602, 747, 230), (556, 816, 870), (10, 996, 555), (52, 509, 578), (303, 700, 995), (290, 238, 596), (195, 395, 800), (264, 870, 819), (670, 236, 630), (299, 292, 504)]\n",
      "weights : [860, 900, 169, 415, 477, 163, 10, 277, 981, 640]\n"
     ]
    }
   ],
   "source": [
    "# set file name\n",
    "fileName = \"./data/KP_p-{}_n-{}_ins-{}.dat\".format(p, n, instance)\n",
    "# read file\n",
    "file = open(fileName, \"r\")\n",
    "content = file.read().splitlines()\n",
    "p = int(content[0])\n",
    "n = int(content[1])\n",
    "capacity = int(content[2])\n",
    "profits = ast.literal_eval(\"\".join(content[3:-1]))\n",
    "# invert line and column of profits\n",
    "profits = list(zip(*profits[::-1]))\n",
    "weights = ast.literal_eval(content[-1])\n",
    "print(\"p :\", p)\n",
    "print(\"n :\", n)\n",
    "print(\"capacity :\", capacity)\n",
    "print(\"profits :\",profits)\n",
    "print(\"weights :\",weights)"
   ]
  },
  {
   "cell_type": "code",
   "execution_count": null,
   "metadata": {},
   "outputs": [],
   "source": []
  },
  {
   "cell_type": "code",
   "execution_count": 6,
   "metadata": {},
   "outputs": [],
   "source": [
    "# PASA\n",
    "def pasa(profits, weights, capacity, n, p, Tmin, T, alpha):\n",
    "    \"\"\"\n",
    "    PASA algorithm\n",
    "    :param profits: list of profits\n",
    "    :param weights: list of weights\n",
    "    :param capacity: knapsack capacity\n",
    "    :param n: number of object\n",
    "    :param p: number of objective functions\n",
    "    :param T: Temperature objective\n",
    "    :param T: Temperature for start\n",
    "    :param alpha: reduction of temperature\n",
    "    :return:\n",
    "    \"\"\"\n",
    "    # initialize\n",
    "    solution = [0] * n\n",
    "    while T > Tmin:\n",
    "        # generate random solution\n",
    "        solution = [random.randint(0, 1) for i in range(n)]\n",
    "        # calculate objective function\n",
    "        obj = 0\n",
    "        for i in range(n):\n",
    "            obj += profits[i][solution[i]] * weights[i]\n",
    "        # calculate probability\n",
    "        probability = math.exp(obj / T)\n",
    "        # generate random number\n",
    "        random_number = random.random()\n",
    "        # if random number is less than probability, accept solution\n",
    "        if random_number < probability:\n",
    "            return solution\n",
    "        # else, reduce temperature\n",
    "        T *= alpha\n",
    "    return solution"
   ]
  },
  {
   "cell_type": "code",
   "execution_count": 7,
   "metadata": {},
   "outputs": [
    {
     "ename": "UnboundLocalError",
     "evalue": "local variable 'solution' referenced before assignment",
     "output_type": "error",
     "traceback": [
      "\u001b[0;31m---------------------------------------------------------------------------\u001b[0m",
      "\u001b[0;31mUnboundLocalError\u001b[0m                         Traceback (most recent call last)",
      "\u001b[0;32m/tmp/ipykernel_13728/2640853620.py\u001b[0m in \u001b[0;36m<module>\u001b[0;34m\u001b[0m\n\u001b[0;32m----> 1\u001b[0;31m \u001b[0mpasa_solution\u001b[0m \u001b[0;34m=\u001b[0m \u001b[0mpasa\u001b[0m\u001b[0;34m(\u001b[0m\u001b[0mprofits\u001b[0m\u001b[0;34m,\u001b[0m \u001b[0mweights\u001b[0m\u001b[0;34m,\u001b[0m \u001b[0mcapacity\u001b[0m\u001b[0;34m,\u001b[0m \u001b[0mn\u001b[0m\u001b[0;34m,\u001b[0m \u001b[0mp\u001b[0m\u001b[0;34m,\u001b[0m \u001b[0;36m1\u001b[0m\u001b[0;34m,\u001b[0m \u001b[0;36m1\u001b[0m\u001b[0;34m,\u001b[0m \u001b[0;36m0.99\u001b[0m\u001b[0;34m)\u001b[0m\u001b[0;34m\u001b[0m\u001b[0;34m\u001b[0m\u001b[0m\n\u001b[0m\u001b[1;32m      2\u001b[0m \u001b[0mpasa_solution\u001b[0m\u001b[0;34m\u001b[0m\u001b[0;34m\u001b[0m\u001b[0m\n",
      "\u001b[0;32m/tmp/ipykernel_13728/1565162853.py\u001b[0m in \u001b[0;36mpasa\u001b[0;34m(profits, weights, capacity, n, p, Tmin, T, alpha)\u001b[0m\n\u001b[1;32m     29\u001b[0m         \u001b[0;31m# else, reduce temperature\u001b[0m\u001b[0;34m\u001b[0m\u001b[0;34m\u001b[0m\u001b[0m\n\u001b[1;32m     30\u001b[0m         \u001b[0mT\u001b[0m \u001b[0;34m*=\u001b[0m \u001b[0malpha\u001b[0m\u001b[0;34m\u001b[0m\u001b[0;34m\u001b[0m\u001b[0m\n\u001b[0;32m---> 31\u001b[0;31m     \u001b[0;32mreturn\u001b[0m \u001b[0msolution\u001b[0m\u001b[0;34m\u001b[0m\u001b[0;34m\u001b[0m\u001b[0m\n\u001b[0m",
      "\u001b[0;31mUnboundLocalError\u001b[0m: local variable 'solution' referenced before assignment"
     ]
    }
   ],
   "source": [
    "pasa_solution = pasa(profits, weights, capacity, n, p, 1, 1, 0.99)\n",
    "pasa_solution"
   ]
  }
 ],
 "metadata": {
  "interpreter": {
   "hash": "43f187d08a7b233672e80b21f375ffa49d1e0713ec8f6d0daf527eb8a4289c85"
  },
  "kernelspec": {
   "display_name": "Python 3.10.0 64-bit ('3.10.0': pyenv)",
   "language": "python",
   "name": "python3"
  },
  "language_info": {
   "codemirror_mode": {
    "name": "ipython",
    "version": 3
   },
   "file_extension": ".py",
   "mimetype": "text/x-python",
   "name": "python",
   "nbconvert_exporter": "python",
   "pygments_lexer": "ipython3",
   "version": "3.10.0"
  },
  "orig_nbformat": 4
 },
 "nbformat": 4,
 "nbformat_minor": 2
}
